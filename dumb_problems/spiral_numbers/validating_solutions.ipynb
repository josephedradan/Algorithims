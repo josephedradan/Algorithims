{
 "cells": [
  {
   "cell_type": "code",
   "execution_count": null,
   "metadata": {},
   "outputs": [],
   "source": [
    "import sys\n",
    "from typing import Tuple\n",
    "\n",
    "\n",
    "import numpy as np\n",
    "import matplotlib.pyplot as plt\n",
    "from mpl_toolkits.mplot3d import Axes3D\n",
    "\n",
    "from common import get_grid\n",
    "from common import LIST_CYCLE_POSITION_SHIFT\n",
    "from common import Grid\n",
    "from solution_bfs_bounded import bfs_spiral_add_numbers_to_grid_bounded\n",
    "from solution_bfs_unbounded import bfs_spiral_add_numbers_to_grid_unbounded\n",
    "\n",
    "# np.set_printoptions(threshold=sys.maxsize)\n",
    "# np.set_printoptions(linewidth=sys.maxsize)"
   ]
  },
  {
   "cell_type": "code",
   "execution_count": null,
   "metadata": {},
   "outputs": [],
   "source": [
    "def display_solution(matrix, figsize=(10,10)):\n",
    "    # Get the shape of the matrix\n",
    "    num_rows, num_cols = matrix.shape\n",
    "\n",
    "    # Create a meshgrid for X and Y\n",
    "    np_array_x = np.arange(0, num_cols, 1)\n",
    "    np_array_y = np.arange(0, num_rows, 1)\n",
    "    np_array_2d_x, np_array_2d_y = np.meshgrid(np_array_x, np_array_y)\n",
    "\n",
    "    # Create a 3D plot\n",
    "    figure_1 = plt.figure(figsize=figsize)\n",
    "    axes_1 = figure_1.add_subplot(111, projection='3d')\n",
    "\n",
    "    # Add labels\n",
    "    axes_1.set_xlabel('X-axis')\n",
    "    axes_1.set_ylabel('Y-axis')\n",
    "    axes_1.set_zlabel('Height')\n",
    "\n",
    "    # Plot the 3D surface\n",
    "    axes_1.plot_surface(np_array_2d_x, np_array_2d_y, matrix, cmap='viridis')\n",
    "    \n",
    "    ####################\n",
    "    \n",
    "    figure_2 = plt.figure(figsize=figsize)\n",
    "    axes_2 = figure_2.add_subplot(111)\n",
    "    \n",
    "    image = axes_2.imshow(matrix, cmap='viridis', origin='lower')\n",
    "    colorbar = figure_2.colorbar(image, ax=axes_2)  # Add colorbar to the subplot\n",
    "\n",
    "    axes_2.set_title('Height Matrix')\n",
    "    axes_2.set_xlabel('X-axis')\n",
    "    axes_2.set_ylabel('Y-axis')\n",
    "    \n",
    "    ####################\n",
    "    \n",
    "    # Calculate the gradient using np.gradient\n",
    "    gradient_y, gradient_x = np.gradient(matrix)\n",
    "\n",
    "    # Create a vector field\n",
    "    vector_field_x = -gradient_x\n",
    "    vector_field_y = -gradient_y\n",
    "    \n",
    "    figure_3 = plt.figure(figsize=figsize)\n",
    "    axes_3 = figure_3.add_subplot(111)\n",
    "\n",
    "    axes_3.quiver(vector_field_x, vector_field_y, scale=20, scale_units='xy', angles='xy')\n",
    "    axes_3.set_title('Vector Field (Gradient)')\n",
    "    axes_3.set_xlabel('X-axis')\n",
    "    axes_3.set_ylabel('Y-axis')\n",
    "\n",
    "        "
   ]
  },
  {
   "cell_type": "markdown",
   "metadata": {},
   "source": [
    "# Initial data"
   ]
  },
  {
   "cell_type": "code",
   "execution_count": null,
   "metadata": {},
   "outputs": [],
   "source": [
    "list_cycle_position_shift = LIST_CYCLE_POSITION_SHIFT\n",
    "\n",
    "grid_size_x = 25\n",
    "grid_size_y = 25\n",
    "\n",
    "position_start: Tuple[int, int] = (15, 10)\n"
   ]
  },
  {
   "cell_type": "markdown",
   "metadata": {},
   "source": [
    "# Solution 1 (BFS add numbers to grid but bounded by the grid)"
   ]
  },
  {
   "cell_type": "code",
   "execution_count": null,
   "metadata": {},
   "outputs": [],
   "source": [
    "grid_1 = get_grid(grid_size_x, grid_size_y)\n",
    "\n",
    "bfs_spiral_add_numbers_to_grid_bounded(\n",
    "    grid_1, \n",
    "    position_start, \n",
    "    list_cycle_position_shift\n",
    ")\n",
    "    \n",
    "matrix_1 = np.array(grid_1)\n",
    "print(matrix_1)"
   ]
  },
  {
   "cell_type": "code",
   "execution_count": null,
   "metadata": {},
   "outputs": [],
   "source": [
    "display_solution(matrix_1)"
   ]
  },
  {
   "cell_type": "markdown",
   "metadata": {},
   "source": [
    "# Solution 2 (BFS add numbers to grid but not bounded by the grid)\n",
    "Imagine the grid as a display like a monitor, the spiral is not dependent on your monitor's view to graph the correct values.\n",
    "It's like in a video game where you can see half of an object because the other half is off screen and you know that the object is not messed up even when you can only see the visible part."
   ]
  },
  {
   "cell_type": "code",
   "execution_count": null,
   "metadata": {},
   "outputs": [],
   "source": [
    "grid_2 = get_grid(grid_size_x, grid_size_y)\n",
    "\n",
    "number_of_valid_positions_on_grid = grid_size_x * grid_size_y\n",
    "\n",
    "bfs_spiral_add_numbers_to_grid_unbounded(\n",
    "    grid_2, \n",
    "    number_of_valid_positions_on_grid, \n",
    "    position_start, \n",
    "    list_cycle_position_shift\n",
    ")\n",
    "\n",
    "matrix_2 = np.array(grid_2)\n",
    "print(matrix_2)"
   ]
  },
  {
   "cell_type": "code",
   "execution_count": null,
   "metadata": {},
   "outputs": [],
   "source": [
    "display_solution(matrix_2)"
   ]
  },
  {
   "cell_type": "markdown",
   "metadata": {},
   "source": [
    "# Testing fun modifications"
   ]
  },
  {
   "cell_type": "code",
   "execution_count": null,
   "metadata": {},
   "outputs": [],
   "source": [
    "list_cycle_position_shift_custom = [\n",
    "    (0, -1),  # Up\n",
    "    (0, 1),  # Down\n",
    "    (1, 0),  # Right\n",
    "    (-1, 0),  # Left\n",
    "    (1, -1),  # Up Right\n",
    "    (-1, 1),  # Down Left\n",
    "    (-1, -1),  # Up Left\n",
    "    (1, 1),  # Down Right\n",
    "]\n"
   ]
  },
  {
   "cell_type": "code",
   "execution_count": null,
   "metadata": {},
   "outputs": [],
   "source": [
    "grid_3 = get_grid(grid_size_x, grid_size_y)\n",
    "\n",
    "bfs_spiral_add_numbers_to_grid_bounded(\n",
    "    grid_3, \n",
    "    position_start, \n",
    "    list_cycle_position_shift_custom\n",
    ")\n",
    "\n",
    "matrix_3 = np.array(grid_3)\n",
    "display_solution((matrix_3))"
   ]
  },
  {
   "cell_type": "code",
   "execution_count": null,
   "metadata": {},
   "outputs": [],
   "source": [
    "grid_4 = get_grid(grid_size_x, grid_size_y)\n",
    "\n",
    "number_of_valid_positions_on_grid = grid_size_x * grid_size_y\n",
    "\n",
    "bfs_spiral_add_numbers_to_grid_unbounded(\n",
    "    grid_4, \n",
    "    number_of_valid_positions_on_grid, \n",
    "    position_start, \n",
    "    list_cycle_position_shift_custom\n",
    ")\n",
    "\n",
    "matrix_4 = np.array(grid_4)\n",
    "display_solution((matrix_4))\n"
   ]
  }
 ],
 "metadata": {
  "kernelspec": {
   "display_name": "Python 3",
   "language": "python",
   "name": "python3"
  },
  "language_info": {
   "codemirror_mode": {
    "name": "ipython",
    "version": 3
   },
   "file_extension": ".py",
   "mimetype": "text/x-python",
   "name": "python",
   "nbconvert_exporter": "python",
   "pygments_lexer": "ipython3",
   "version": "3.10.13"
  }
 },
 "nbformat": 4,
 "nbformat_minor": 2
}
